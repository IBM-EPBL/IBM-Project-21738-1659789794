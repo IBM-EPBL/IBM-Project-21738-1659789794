{
 "cells": [
  {
   "cell_type": "code",
   "execution_count": 1,
   "id": "505cf664",
   "metadata": {},
   "outputs": [],
   "source": [
    "from keras.preprocessing.image import ImageDataGenerator\n",
    "train_datagen=ImageDataGenerator(rescale=1./255,shear_range=0.2,zoom_range=0.2,horizontal_flip=True)\n",
    "test_datagen=ImageDataGenerator(rescale=1)"
   ]
  },
  {
   "cell_type": "code",
   "execution_count": 2,
   "id": "4cca39b6",
   "metadata": {},
   "outputs": [
    {
     "name": "stdout",
     "output_type": "stream",
     "text": [
      "Found 11386 images belonging to 9 classes.\n",
      "Found 3416 images belonging to 9 classes.\n"
     ]
    }
   ],
   "source": [
    "x_train=train_datagen.flow_from_directory(r'C:\\Users\\haris\\Downloads\\Fertilizers_Recommendation_ System_For_Disease_ Prediction\\Dataset Plant Disease\\Veg-dataset\\Veg-dataset\\train_set',target_size=(128,128),batch_size=2,class_mode='categorical')\n",
    "x_test=test_datagen.flow_from_directory(r'C:\\Users\\haris\\Downloads\\Fertilizers_Recommendation_ System_For_Disease_ Prediction\\Dataset Plant Disease\\Veg-dataset\\Veg-dataset\\test_set',target_size=(128,128),batch_size=2,class_mode='categorical')"
   ]
  },
  {
   "cell_type": "code",
   "execution_count": 3,
   "id": "15120f24",
   "metadata": {},
   "outputs": [],
   "source": [
    "from keras.models import Sequential\n",
    "from keras.layers import Dense\n",
    "from keras.layers import Convolution2D\n",
    "from keras.layers import MaxPooling2D\n",
    "from keras.layers import Flatten"
   ]
  },
  {
   "cell_type": "code",
   "execution_count": 4,
   "id": "ec7b5878",
   "metadata": {},
   "outputs": [],
   "source": [
    "model=Sequential()"
   ]
  },
  {
   "cell_type": "code",
   "execution_count": 5,
   "id": "fe21b4e6",
   "metadata": {},
   "outputs": [],
   "source": [
    "model.add(Convolution2D(32,(3,3),input_shape=(128,128,3),activation='relu'))"
   ]
  },
  {
   "cell_type": "code",
   "execution_count": 6,
   "id": "f9721cca",
   "metadata": {},
   "outputs": [],
   "source": [
    "model.add(MaxPooling2D(pool_size=(2,2)))"
   ]
  },
  {
   "cell_type": "code",
   "execution_count": 7,
   "id": "54769702",
   "metadata": {},
   "outputs": [],
   "source": [
    "model.add(Flatten())"
   ]
  },
  {
   "cell_type": "code",
   "execution_count": 8,
   "id": "00b3ab14",
   "metadata": {},
   "outputs": [],
   "source": [
    "model.add(Dense(units=300,kernel_initializer='uniform',activation='relu'))"
   ]
  },
  {
   "cell_type": "code",
   "execution_count": 9,
   "id": "790bddf6",
   "metadata": {},
   "outputs": [],
   "source": [
    "model.add(Dense(units=150,kernel_initializer='uniform',activation='relu'))"
   ]
  },
  {
   "cell_type": "code",
   "execution_count": 10,
   "id": "d3f34fe4",
   "metadata": {},
   "outputs": [],
   "source": [
    "model.add(Dense(units=75,kernel_initializer='uniform',activation='relu'))"
   ]
  },
  {
   "cell_type": "code",
   "execution_count": 11,
   "id": "fedefb79",
   "metadata": {},
   "outputs": [],
   "source": [
    "model.add(Dense(units=9,kernel_initializer='uniform',activation='softmax'))"
   ]
  },
  {
   "cell_type": "code",
   "execution_count": 12,
   "id": "80d841b8",
   "metadata": {},
   "outputs": [],
   "source": [
    "model.compile(loss='categorical_crossentropy',optimizer=\"adam\",metrics=[\"accuracy\"])"
   ]
  },
  {
   "cell_type": "code",
   "execution_count": 13,
   "id": "35d47cf9",
   "metadata": {},
   "outputs": [
    {
     "name": "stdout",
     "output_type": "stream",
     "text": [
      "Epoch 1/20\n",
      "89/89 [==============================] - 30s 319ms/step - loss: 2.1723 - accuracy: 0.1517 - val_loss: 120.7026 - val_accuracy: 0.2407\n",
      "Epoch 2/20\n",
      "89/89 [==============================] - 25s 286ms/step - loss: 2.1572 - accuracy: 0.1404 - val_loss: 29.3021 - val_accuracy: 0.2037\n",
      "Epoch 3/20\n",
      "89/89 [==============================] - 23s 261ms/step - loss: 2.1362 - accuracy: 0.1629 - val_loss: 160.8340 - val_accuracy: 0.0741\n",
      "Epoch 4/20\n",
      "89/89 [==============================] - 25s 280ms/step - loss: 2.1270 - accuracy: 0.1854 - val_loss: 105.5130 - val_accuracy: 0.1296\n",
      "Epoch 5/20\n",
      "89/89 [==============================] - 26s 286ms/step - loss: 2.1097 - accuracy: 0.1966 - val_loss: 54.4361 - val_accuracy: 0.2222\n",
      "Epoch 6/20\n",
      "89/89 [==============================] - 26s 291ms/step - loss: 2.0661 - accuracy: 0.2135 - val_loss: 68.2148 - val_accuracy: 0.2593\n",
      "Epoch 7/20\n",
      "89/89 [==============================] - 26s 290ms/step - loss: 2.1400 - accuracy: 0.1517 - val_loss: 46.4612 - val_accuracy: 0.1111\n",
      "Epoch 8/20\n",
      "89/89 [==============================] - 26s 290ms/step - loss: 2.0620 - accuracy: 0.1742 - val_loss: 114.9483 - val_accuracy: 0.1852\n",
      "Epoch 9/20\n",
      "89/89 [==============================] - 26s 291ms/step - loss: 2.0940 - accuracy: 0.1910 - val_loss: 169.2062 - val_accuracy: 0.2037\n",
      "Epoch 10/20\n",
      "89/89 [==============================] - 27s 301ms/step - loss: 2.0942 - accuracy: 0.2360 - val_loss: 170.2746 - val_accuracy: 0.2222\n",
      "Epoch 11/20\n",
      "89/89 [==============================] - 26s 292ms/step - loss: 2.1070 - accuracy: 0.2022 - val_loss: 63.9715 - val_accuracy: 0.2778\n",
      "Epoch 12/20\n",
      "89/89 [==============================] - 26s 288ms/step - loss: 2.0840 - accuracy: 0.2135 - val_loss: 15.8410 - val_accuracy: 0.1296\n",
      "Epoch 13/20\n",
      "89/89 [==============================] - 26s 288ms/step - loss: 2.0674 - accuracy: 0.2247 - val_loss: 13.8895 - val_accuracy: 0.2778\n",
      "Epoch 14/20\n",
      "89/89 [==============================] - 27s 300ms/step - loss: 2.0007 - accuracy: 0.2247 - val_loss: 67.5115 - val_accuracy: 0.0556\n",
      "Epoch 15/20\n",
      "89/89 [==============================] - 25s 281ms/step - loss: 1.8834 - accuracy: 0.2978 - val_loss: 113.8566 - val_accuracy: 0.2407\n",
      "Epoch 16/20\n",
      "89/89 [==============================] - 25s 277ms/step - loss: 2.0294 - accuracy: 0.2416 - val_loss: 31.3370 - val_accuracy: 0.1481\n",
      "Epoch 17/20\n",
      "89/89 [==============================] - 25s 277ms/step - loss: 1.8530 - accuracy: 0.2978 - val_loss: 51.8327 - val_accuracy: 0.2037\n",
      "Epoch 18/20\n",
      "89/89 [==============================] - 26s 287ms/step - loss: 1.8049 - accuracy: 0.2978 - val_loss: 245.5775 - val_accuracy: 0.1296\n",
      "Epoch 19/20\n",
      "89/89 [==============================] - 25s 283ms/step - loss: 1.8382 - accuracy: 0.3483 - val_loss: 55.6422 - val_accuracy: 0.2407\n",
      "Epoch 20/20\n",
      "89/89 [==============================] - 25s 281ms/step - loss: 1.8462 - accuracy: 0.3034 - val_loss: 34.9634 - val_accuracy: 0.3333\n"
     ]
    },
    {
     "data": {
      "text/plain": [
       "<keras.callbacks.History at 0x1f2800410c0>"
      ]
     },
     "execution_count": 13,
     "metadata": {},
     "output_type": "execute_result"
    }
   ],
   "source": [
    "model.fit(x_train,steps_per_epoch=89,epochs=20,validation_data=x_test,validation_steps=27)"
   ]
  },
  {
   "cell_type": "code",
   "execution_count": 14,
   "id": "2cb00ef6",
   "metadata": {},
   "outputs": [],
   "source": [
    "model.save(r'C:\\Users\\haris\\Downloads\\Fertilizers_Recommendation_ System_For_Disease_ Prediction\\Vegetable.h5')           "
   ]
  },
  {
   "cell_type": "code",
   "execution_count": 15,
   "id": "abce82ea",
   "metadata": {},
   "outputs": [
    {
     "name": "stdout",
     "output_type": "stream",
     "text": [
      "Model: \"sequential\"\n",
      "_________________________________________________________________\n",
      " Layer (type)                Output Shape              Param #   \n",
      "=================================================================\n",
      " conv2d (Conv2D)             (None, 126, 126, 32)      896       \n",
      "                                                                 \n",
      " max_pooling2d (MaxPooling2D  (None, 63, 63, 32)       0         \n",
      " )                                                               \n",
      "                                                                 \n",
      " flatten (Flatten)           (None, 127008)            0         \n",
      "                                                                 \n",
      " dense (Dense)               (None, 300)               38102700  \n",
      "                                                                 \n",
      " dense_1 (Dense)             (None, 150)               45150     \n",
      "                                                                 \n",
      " dense_2 (Dense)             (None, 75)                11325     \n",
      "                                                                 \n",
      " dense_3 (Dense)             (None, 9)                 684       \n",
      "                                                                 \n",
      "=================================================================\n",
      "Total params: 38,160,755\n",
      "Trainable params: 38,160,755\n",
      "Non-trainable params: 0\n",
      "_________________________________________________________________\n"
     ]
    }
   ],
   "source": [
    "model.summary()"
   ]
  }
 ],
 "metadata": {
  "kernelspec": {
   "display_name": "Python 3.10.3 64-bit",
   "language": "python",
   "name": "python3"
  },
  "language_info": {
   "codemirror_mode": {
    "name": "ipython",
    "version": 3
   },
   "file_extension": ".py",
   "mimetype": "text/x-python",
   "name": "python",
   "nbconvert_exporter": "python",
   "pygments_lexer": "ipython3",
   "version": "3.10.3"
  },
  "vscode": {
   "interpreter": {
    "hash": "865d8b2eb28e274047ba64063dfb6a2aabf0dfec4905d304d7a76618dae6fdd4"
   }
  }
 },
 "nbformat": 4,
 "nbformat_minor": 5
}
